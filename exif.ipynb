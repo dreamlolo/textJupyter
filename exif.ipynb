{
 "cells": [
  {
   "cell_type": "code",
   "execution_count": 7,
   "metadata": {},
   "outputs": [
    {
     "name": "stdout",
     "output_type": "stream",
     "text": [
      "{'ExifVersion': b'0220', 'ComponentsConfiguration': b'\\x01\\x02\\x03\\x00', 'ShutterSpeedValue': (4906, 1000), 'DateTimeOriginal': '2016:05:22 10:29:32', 'DateTimeDigitized': '2016:05:22 10:29:32', 'ApertureValue': (240, 100), 'ExposureBiasValue': (0, 12), 'MeteringMode': 2, 'LightSource': 0, 'Flash': 9, 'FocalLength': (2870, 1000), 'ColorSpace': 1, 'ExifImageWidth': 1746, 'ExifInteroperabilityOffset': 4818, 'SceneCaptureType': 0, 'GainControl': 4, 'ExifImageHeight': 3104, 'Make': 'Sony', 'Model': 'D2303', 'Orientation': 1, 'YCbCrPositioning': 1, 'ExposureIndex': (362, 1), 'XResolution': (72, 1), 'YResolution': (72, 1), 'GPSInfo': {0: b'\\x02\\x02\\x00\\x00', 1: 'N', 2: ((43, 1), (36, 1), (10800, 1000)), 3: 'E', 4: ((3, 1), (52, 1), (19506, 1000)), 5: b'\\x00', 6: (92000, 1000), 7: ((8, 1), (29, 1), (26, 1)), 18: 'WGS-84', 29: '2016:05:22'}, 'CustomRendered': 0, 'ISOSpeedRatings': 450, 'ResolutionUnit': 2, 'ExposureMode': 0, 'FlashPixVersion': b'0100', 'WhiteBalance': 0, 'Software': 'Microsoft Windows Photo Viewer 6.1.7600.16385', 'DateTime': '2018:04:26 17:45:18', 'DigitalZoomRatio': (100, 100), 'ExifOffset': 2306, 'MakerNote': b'\\nj\\x00\\x00\\x10\\x04\\x00\\x00\\x00\\x03\\x00\\x00\\x01\\x16', 'ExposureTime': (1, 30)}\n",
      "{'ExifVersion': b'0220', 'ComponentsConfiguration': b'\\x01\\x02\\x03\\x00', 'ShutterSpeedValue': (4906, 1000), 'DateTimeOriginal': '2016:05:22 10:29:32', 'DateTimeDigitized': '2016:05:22 10:29:32', 'ApertureValue': (240, 100), 'ExposureBiasValue': (0, 12), 'MeteringMode': 2, 'LightSource': 0, 'Flash': 9, 'FocalLength': (2870, 1000), 'ColorSpace': 1, 'ExifImageWidth': 1746, 'ExifInteroperabilityOffset': 4818, 'SceneCaptureType': 0, 'GainControl': 4, 'ExifImageHeight': 3104, 'Make': 'Sony', 'Model': 'D2303', 'Orientation': 1, 'YCbCrPositioning': 1, 'ExposureIndex': (362, 1), 'ExposureTime': (1, 30), 'XResolution': (72, 1), 'YResolution': (72, 1), 'GPSInfo': {0: b'\\x02\\x02\\x00\\x00', 1: 'N', 2: ((43, 1), (36, 1), (10800, 1000)), 3: 'E', 4: ((3, 1), (52, 1), (19506, 1000)), 5: b'\\x00', 6: (92000, 1000), 7: ((8, 1), (29, 1), (26, 1)), 18: 'WGS-84', 29: '2016:05:22'}, 'CustomRendered': 0, 'ISOSpeedRatings': 450, 'ResolutionUnit': 2, 'ExposureMode': 0, 'FlashPixVersion': b'0100', 'WhiteBalance': 0, 'Software': 'Microsoft Windows Photo Viewer 6.1.7600.16385', 'DateTime': '2018:04:26 17:45:18', 'DigitalZoomRatio': (100, 100), 'ExifOffset': 2306, 'MakerNote': b'\\nj\\x00\\x00\\x10\\x04\\x00\\x00\\x00\\x03\\x00\\x00\\x01\\x16'}\n",
      "nom de l'appareil: Sony\n",
      "infos gps:  {0: b'\\x02\\x02\\x00\\x00', 1: 'N', 2: ((43, 1), (36, 1), (10800, 1000)), 3: 'E', 4: ((3, 1), (52, 1), (19506, 1000)), 5: b'\\x00', 6: (92000, 1000), 7: ((8, 1), (29, 1), (26, 1)), 18: 'WGS-84', 29: '2016:05:22'}\n",
      "GPSVersionID b'\\x02\\x02\\x00\\x00'\n",
      "GPSLatitudeRef N\n",
      "GPSLatitude ((43, 1), (36, 1), (10800, 1000))\n",
      "GPSLongitudeRef E\n",
      "GPSLongitude ((3, 1), (52, 1), (19506, 1000))\n",
      "GPSAltitudeRef b'\\x00'\n",
      "GPSAltitude (92000, 1000)\n",
      "GPSTimeStamp ((8, 1), (29, 1), (26, 1))\n",
      "GPSMapDatum WGS-84\n",
      "GPSDateStamp 2016:05:22\n"
     ]
    }
   ],
   "source": [
    "from PIL import Image, ExifTags\n",
    "\n",
    "#premier code d'extraction de exif\n",
    "def get_exif1(image):\n",
    "    ret = {}\n",
    "    img = Image.open(image)\n",
    "    info = img._getexif()\n",
    "    for tag, value in info.items():\n",
    "        decoded = ExifTags.TAGS.get(tag, tag)\n",
    "        if tag in ExifTags.TAGS:\n",
    "            ret[decoded] = value\n",
    "    return ret\n",
    "\n",
    "#deuxième code d'extraction de exif\n",
    "#par compréhension\n",
    "def get_exif2(image):\n",
    "    img = Image.open(image)\n",
    "    exif_data = img._getexif()\n",
    "    exif = {\n",
    "        ExifTags.TAGS[k]: v\n",
    "        for k, v in img._getexif().items()\n",
    "        if k in ExifTags.TAGS\n",
    "    }\n",
    "    return(exif)\n",
    "\n",
    "#affichage des données gps\n",
    "def gpsInfo(exifData):\n",
    "    gpsinfo = {}\n",
    "    for key in exifData['GPSInfo'].keys():\n",
    "        decode = ExifTags.GPSTAGS.get(key,key)\n",
    "        gpsinfo[decode] = exifData['GPSInfo'][key]\n",
    "    return gpsinfo\n",
    "\n",
    "#conversion degrés,minutes,secondes en DD(degrés décimaux)\n",
    "def convertGpsToDd(deg,minute,sec):\n",
    "    return(deg+minute/60+sec/3600)\n",
    "\n",
    "#tests\n",
    "data1 = get_exif1('img2.jpg')\n",
    "print(data1)\n",
    "\n",
    "data2=  get_exif2('img2.jpg')\n",
    "print(data2)\n",
    "print(\"nom de l'appareil:\",data2['Make'])\n",
    "\n",
    "print(\"infos gps: \",data2['GPSInfo'])\n",
    "gps=gpsInfo(data2)\n",
    "for i,j in gps.items():\n",
    "    print(i,j)"
   ]
  },
  {
   "cell_type": "code",
   "execution_count": 34,
   "metadata": {},
   "outputs": [
    {
     "name": "stdout",
     "output_type": "stream",
     "text": [
      "43.6029975 3.872085\n"
     ]
    },
    {
     "data": {
      "text/plain": [
       "True"
      ]
     },
     "execution_count": 34,
     "metadata": {},
     "output_type": "execute_result"
    }
   ],
   "source": [
    "import folium\n",
    "import webbrowser\n",
    "\n",
    "x=43+36/60+10.791/3600\n",
    "y=3+52/60+19.506/3600\n",
    "print(x,y)\n",
    "\n",
    "carte= folium.Map(\n",
    "    location=[x, y],\n",
    "    zoom_start=6\n",
    ")\n",
    "\n",
    "folium.Marker(\n",
    "    location=[x, y],\n",
    "    popup='Où est-on?',\n",
    "    icon=folium.Icon(color='red')\n",
    ").add_to(carte)\n",
    "\n",
    "folium.Marker(\n",
    "    location=[x+1, y+1],\n",
    "    popup='Où est-IL?',\n",
    "    icon=folium.Icon(color='blue')\n",
    ").add_to(carte)\n",
    "\n",
    "folium.CircleMarker(\n",
    "    location=[x+1, y],\n",
    "    radius=400,\n",
    "    popup='Le quartier',\n",
    "    color='#ff0000',\n",
    "    fill=True,\n",
    "    fill_color='#ccccccc'\n",
    ").add_to(carte)\n",
    "\n",
    "\n",
    "carte.save('exempleFolium1.html')\n",
    "webbrowser.open('exempleFolium1.html',new=2)"
   ]
  },
  {
   "cell_type": "code",
   "execution_count": 12,
   "metadata": {},
   "outputs": [
    {
     "name": "stdout",
     "output_type": "stream",
     "text": [
      "Collecting folium\n",
      "  Downloading https://files.pythonhosted.org/packages/fd/a0/ccb3094026649cda4acd55bf2c3822bb8c277eb11446d13d384e5be35257/folium-0.10.1-py2.py3-none-any.whl (91kB)\n",
      "Collecting branca>=0.3.0 (from folium)\n",
      "  Using cached https://files.pythonhosted.org/packages/63/36/1c93318e9653f4e414a2e0c3b98fc898b4970e939afeedeee6075dd3b703/branca-0.3.1-py3-none-any.whl\n",
      "Requirement already satisfied: jinja2>=2.9 in c:\\users\\laurent\\anaconda3\\lib\\site-packages (from folium) (2.10.3)\n",
      "Requirement already satisfied: requests in c:\\users\\laurent\\anaconda3\\lib\\site-packages (from folium) (2.22.0)\n",
      "Requirement already satisfied: numpy in c:\\users\\laurent\\anaconda3\\lib\\site-packages (from folium) (1.16.5)\n",
      "Requirement already satisfied: six in c:\\users\\laurent\\anaconda3\\lib\\site-packages (from branca>=0.3.0->folium) (1.12.0)\n",
      "Requirement already satisfied: MarkupSafe>=0.23 in c:\\users\\laurent\\anaconda3\\lib\\site-packages (from jinja2>=2.9->folium) (1.1.1)\n",
      "Requirement already satisfied: urllib3!=1.25.0,!=1.25.1,<1.26,>=1.21.1 in c:\\users\\laurent\\anaconda3\\lib\\site-packages (from requests->folium) (1.24.2)\n",
      "Requirement already satisfied: idna<2.9,>=2.5 in c:\\users\\laurent\\anaconda3\\lib\\site-packages (from requests->folium) (2.8)\n",
      "Requirement already satisfied: chardet<3.1.0,>=3.0.2 in c:\\users\\laurent\\anaconda3\\lib\\site-packages (from requests->folium) (3.0.4)\n",
      "Requirement already satisfied: certifi>=2017.4.17 in c:\\users\\laurent\\anaconda3\\lib\\site-packages (from requests->folium) (2019.9.11)\n",
      "Installing collected packages: branca, folium\n",
      "Successfully installed branca-0.3.1 folium-0.10.1\n",
      "Note: you may need to restart the kernel to use updated packages.\n"
     ]
    }
   ],
   "source": [
    "pip install folium"
   ]
  },
  {
   "cell_type": "code",
   "execution_count": 17,
   "metadata": {},
   "outputs": [
    {
     "name": "stdout",
     "output_type": "stream",
     "text": [
      "{0: (2, 2, 0, 0), 1: b'N', 2: ((43, 1), (36, 1), (10800, 1000)), 3: b'E', 4: ((3, 1), (52, 1), (19506, 1000)), 5: 0, 6: (92000, 1000), 7: ((8, 1), (29, 1), (26, 1)), 18: b'WGS-8', 29: b'2016:05:22'}\n"
     ]
    }
   ],
   "source": [
    "from PIL import Image\n",
    "import piexif\n",
    "\n",
    "im = Image.open('img2.jpg')\n",
    "exif_dict = piexif.load(im.info[\"exif\"])\n",
    "\n",
    "print(exif_dict[\"GPS\"])\n",
    "w, h = im.size\n",
    "\n",
    "exif_dict[\"0th\"][piexif.ImageIFD.YResolution] = (h, 1)\n",
    "exif_dict[\"GPS\"][piexif.GPSIFD.GPSVersionID]= (2,0,0,0)\n",
    "exif_dict[\"GPS\"][piexif.GPSIFD.GPSLatitudeRef] = \"S\"\n",
    "exif_dict[\"GPS\"][piexif.GPSIFD.GPSAltitude] = (20,1)\n",
    "exif_bytes = piexif.dump(exif_dict)\n",
    "im.save('new_file.jpg', \"jpeg\", exif=exif_bytes)\n"
   ]
  },
  {
   "cell_type": "code",
   "execution_count": 16,
   "metadata": {},
   "outputs": [
    {
     "name": "stdout",
     "output_type": "stream",
     "text": [
      "Collecting piexif\n",
      "  Using cached https://files.pythonhosted.org/packages/2c/d8/6f63147dd73373d051c5eb049ecd841207f898f50a5a1d4378594178f6cf/piexif-1.1.3-py2.py3-none-any.whl\n",
      "Installing collected packages: piexif\n",
      "Successfully installed piexif-1.1.3\n",
      "Note: you may need to restart the kernel to use updated packages.\n"
     ]
    }
   ],
   "source": [
    "pip install piexif\n"
   ]
  },
  {
   "cell_type": "code",
   "execution_count": 24,
   "metadata": {},
   "outputs": [
    {
     "name": "stdout",
     "output_type": "stream",
     "text": [
      "ee\n",
      "['img2.jpg', 'new_file.jpg']\n"
     ]
    }
   ],
   "source": [
    "import os\n",
    " \n",
    "#1)recuperation du contenu du dossier c:\n",
    "contenu=os.listdir('c:')\n",
    "#donne le chemin complet de chaques fichiers du dossier, par exemple pour le fichier img2.jpg : 'c:/001.jpg'\n",
    "#2)recuperation des noms de fichiers (sans le chemin) qui sont des .jpg:\n",
    "#méthode par compréhension de liste. \n",
    "# Split de la chaine de caractère sur le symbole / -> cela donne une liste\n",
    "# avec le [-1] on ne garde que le dernier de la liste...donc le nom du fichier\n",
    "# mais uniquement si ce nom contient .jpg\n",
    "contenu=[x.split('/')[-1] for x in contenu if '.jpg' in x.split('/')[-1]]\n",
    "#3)Maintenant on trie la liste\n",
    "\n",
    "print(contenu)"
   ]
  },
  {
   "cell_type": "code",
   "execution_count": null,
   "metadata": {},
   "outputs": [],
   "source": []
  }
 ],
 "metadata": {
  "kernelspec": {
   "display_name": "Python 3",
   "language": "python",
   "name": "python3"
  },
  "language_info": {
   "codemirror_mode": {
    "name": "ipython",
    "version": 3
   },
   "file_extension": ".py",
   "mimetype": "text/x-python",
   "name": "python",
   "nbconvert_exporter": "python",
   "pygments_lexer": "ipython3",
   "version": "3.7.4"
  }
 },
 "nbformat": 4,
 "nbformat_minor": 2
}
